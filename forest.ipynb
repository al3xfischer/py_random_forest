{
 "cells": [
  {
   "cell_type": "code",
   "execution_count": 11,
   "metadata": {},
   "outputs": [],
   "source": [
    "import random\n",
    "import csv\n",
    "import sys\n",
    "import math\n",
    "import matplotlib.pyplot as plt\n",
    "from collections import Counter\n"
   ]
  },
  {
   "cell_type": "code",
   "execution_count": 12,
   "metadata": {},
   "outputs": [],
   "source": [
    "def csv_file_to_ordered_data(csv_file_name):\n",
    "    data = csv_file_to_list(csv_file_name)\n",
    "    return order_csv_data(data)\n",
    "\n",
    "def is_complete(data_item, pos):\n",
    "    return data_item[pos] != '?'\n",
    "\n",
    "def order_csv_data(csv_data):\n",
    "    # The first row in the CSV file is the heading of the data table.\n",
    "    heading = csv_data.pop(0)\n",
    "    complete_data = []\n",
    "    incomplete_data = []\n",
    "\n",
    "    # Let enquired_column be the column of the variable which\n",
    "    # conditional probability should be calculated. Here set that\n",
    "    # column to be the last one.\n",
    "    enquired_column = len(heading) - 1\n",
    "    \n",
    "    # Divide the data into the complete and the incomplete data.\n",
    "    # An incomplete row is the one that has a question mark in the\n",
    "    # enquired_column. The question mark will be replaced by the\n",
    "    # calculated Baysian probabilities from the complete data.\n",
    "    for data_item in csv_data:\n",
    "        if is_complete(data_item, enquired_column):\n",
    "            complete_data.append(data_item)\n",
    "        else:\n",
    "            incomplete_data.append(data_item)\n",
    "    return (heading, complete_data, incomplete_data, enquired_column)\n",
    "\n",
    "def csv_file_to_list(csv_file_name):\n",
    "    with open(csv_file_name, 'r') as f:\n",
    "        reader = csv.reader(f)\n",
    "        data = list(reader)\n",
    "    return data\n"
   ]
  },
  {
   "cell_type": "code",
   "execution_count": 13,
   "metadata": {},
   "outputs": [],
   "source": [
    "# (heading, complete_data, incomplete_data, enquired_column) = csv_file_to_ordered_data(\"swim.csv\")"
   ]
  },
  {
   "cell_type": "code",
   "execution_count": 14,
   "metadata": {},
   "outputs": [],
   "source": [
    "# complete_data"
   ]
  },
  {
   "cell_type": "code",
   "execution_count": 15,
   "metadata": {},
   "outputs": [],
   "source": [
    "# incomplete_data"
   ]
  },
  {
   "cell_type": "code",
   "execution_count": 16,
   "metadata": {},
   "outputs": [],
   "source": [
    "def split_data_by_col(data, col):\n",
    "    data_groups = {}\n",
    "    for data_item in data:\n",
    "        if data_groups.get(data_item[col]) is None:\n",
    "            data_groups[data_item[col]] = []\n",
    "        data_groups[data_item[col]].append(data_item)\n",
    "    return data_groups\n"
   ]
  },
  {
   "cell_type": "code",
   "execution_count": 17,
   "metadata": {},
   "outputs": [],
   "source": [
    "# res = split_data_by_col(complete_data, 1)"
   ]
  },
  {
   "cell_type": "code",
   "execution_count": 18,
   "metadata": {},
   "outputs": [],
   "source": [
    "# res\n"
   ]
  },
  {
   "cell_type": "code",
   "execution_count": 19,
   "metadata": {},
   "outputs": [],
   "source": [
    "# res = split_data_by_col(complete_data, 0)"
   ]
  },
  {
   "cell_type": "code",
   "execution_count": 20,
   "metadata": {},
   "outputs": [],
   "source": [
    "# res"
   ]
  },
  {
   "cell_type": "code",
   "execution_count": 21,
   "metadata": {},
   "outputs": [],
   "source": [
    "def col_information_gain(complete_data, col, enquired_column):\n",
    "    data_groups = split_data_by_col(complete_data, col)\n",
    "    information_gain = entropy(complete_data, enquired_column)\n",
    "    for _, data_group in data_groups.items():\n",
    "        information_gain -= (float(len(data_group)) / len(complete_data)\n",
    "                             ) * entropy(data_group, enquired_column)\n",
    "    return information_gain\n"
   ]
  },
  {
   "cell_type": "code",
   "execution_count": 22,
   "metadata": {},
   "outputs": [],
   "source": [
    "def entropy(data, enquired_column):\n",
    "    value_counts = {}\n",
    "    for data_item in data:\n",
    "        if value_counts.get(data_item[enquired_column]) is None:\n",
    "            value_counts[data_item[enquired_column]] = 0\n",
    "        value_counts[data_item[enquired_column]] += 1\n",
    "    entropy = 0\n",
    "    for _, count in value_counts.items():\n",
    "        probability = float(count) / len(data)\n",
    "        entropy -= probability * math.log(probability, 2)\n",
    "    return entropy\n"
   ]
  },
  {
   "cell_type": "code",
   "execution_count": 23,
   "metadata": {},
   "outputs": [],
   "source": [
    "# col_information_gain(complete_data, 0, enquired_column)"
   ]
  },
  {
   "cell_type": "code",
   "execution_count": 24,
   "metadata": {},
   "outputs": [],
   "source": [
    "# col_information_gain(complete_data, 1, enquired_column)"
   ]
  },
  {
   "cell_type": "code",
   "execution_count": 25,
   "metadata": {},
   "outputs": [],
   "source": [
    "# we need a storage structure for the tree\n",
    "\n",
    "class TreeNode:\n",
    "\n",
    "    def __init__(self, var=None, val=None):\n",
    "        self.children = []\n",
    "        self.var = var\n",
    "        self.val = val\n",
    "\n",
    "    def add_child(self, child):\n",
    "        self.children.append(child)\n",
    "\n",
    "    def get_children(self):\n",
    "        return self.children\n",
    "\n",
    "    def get_var(self):\n",
    "        return self.var\n",
    "\n",
    "    def get_val(self):\n",
    "        return self.val\n",
    "\n",
    "    def is_root(self):\n",
    "        return self.var is None and self.val is None\n",
    "\n",
    "    def is_leaf(self):\n",
    "        return len(self.children) == 0\n",
    "\n",
    "    def name(self):\n",
    "        if self.is_root():\n",
    "            return \"[root]\"\n",
    "        return \"[\" + self.var + \"=\" + self.val + \"]\"\n"
   ]
  },
  {
   "cell_type": "code",
   "execution_count": 26,
   "metadata": {},
   "outputs": [],
   "source": [
    "# m is the number of the classifying variables that should be at most\n",
    "# considered at each node. m needed only for a random forest. -> later\n",
    "# for decision tree all variables are used -> len(heading)\n",
    "\n",
    "def construct_general_tree(heading, complete_data, enquired_column, m):\n",
    "    available_columns = []\n",
    "    for col in range(0, len(heading)):\n",
    "        if col != enquired_column:\n",
    "            available_columns.append(col)\n",
    "    tree = TreeNode()\n",
    "    add_children_to_node(tree, heading, complete_data,\n",
    "                         available_columns, enquired_column, m)\n",
    "    return tree\n",
    "\n",
    "\n",
    "# as described above ...\n",
    "\n",
    "def constuct_decision_tree(heading, complete_data, enquired_column):\n",
    "    return construct_general_tree(heading, complete_data,\n",
    "                                  enquired_column, len(heading))\n",
    "\n"
   ]
  },
  {
   "cell_type": "code",
   "execution_count": 27,
   "metadata": {},
   "outputs": [],
   "source": [
    "def add_children_to_node(node, heading, complete_data, available_columns, enquired_column, m):\n",
    "    if len(available_columns) == 0:\n",
    "        # no more variables to split - just add leaf\n",
    "        add_leaf(node, heading, complete_data, enquired_column)\n",
    "        return -1\n",
    "\n",
    "    # choose the next column for splitting\n",
    "    selected_col = select_col(\n",
    "        heading, complete_data, available_columns,\n",
    "        enquired_column, m)\n",
    "    for i in range(0, len(available_columns)):\n",
    "        if available_columns[i] == selected_col:\n",
    "            available_columns.pop(i)\n",
    "            break\n",
    "\n",
    "    # now calculate \n",
    "    data_groups = split_data_by_col(complete_data, selected_col)\n",
    "    if (len(data_groups.items()) == 1):\n",
    "        # there is only one decision solution left - just add a leaf\n",
    "        add_leaf(node, heading, complete_data, enquired_column)\n",
    "        return -1\n",
    "\n",
    "    # do the recursion: add node and then add remaining children\n",
    "    \n",
    "    for child_group, child_data in data_groups.items():\n",
    "        child = TreeNode(heading[selected_col], child_group)\n",
    "        add_children_to_node(child, heading, child_data, list(\n",
    "            available_columns), enquired_column, m)\n",
    "        node.add_child(child)\n"
   ]
  },
  {
   "cell_type": "code",
   "execution_count": 28,
   "metadata": {},
   "outputs": [],
   "source": [
    "# Selects an available column/attribute with the highest information gain\n",
    "\n",
    "def select_col(heading, complete_data, available_columns, enquired_column, m):\n",
    "    # Consider only a subset of the available columns of size m.\n",
    "\n",
    "    if len(available_columns) < m:\n",
    "        sample_columns = available_columns\n",
    "    else:\n",
    "        sample_columns = random.sample(available_columns, m)\n",
    "\n",
    "    selected_col = -1\n",
    "    selected_col_information_gain = -1\n",
    "    for col in sample_columns:\n",
    "        current_information_gain = col_information_gain(\n",
    "            complete_data, col, enquired_column)\n",
    "\n",
    "        # print len(complete_data),col,current_information_gain\n",
    "        if current_information_gain > selected_col_information_gain:\n",
    "            selected_col = col\n",
    "            selected_col_information_gain = current_information_gain\n",
    "\n",
    "    return selected_col\n"
   ]
  },
  {
   "cell_type": "code",
   "execution_count": 29,
   "metadata": {},
   "outputs": [],
   "source": [
    "def add_leaf(node, heading, complete_data, enquired_column):\n",
    "    leaf_node = TreeNode(heading[enquired_column],\n",
    "                         complete_data[0][enquired_column])\n",
    "    node.add_child(leaf_node)\n"
   ]
  },
  {
   "cell_type": "code",
   "execution_count": 30,
   "metadata": {},
   "outputs": [],
   "source": [
    "# tree = constuct_decision_tree(heading, complete_data, enquired_column)"
   ]
  },
  {
   "cell_type": "code",
   "execution_count": 31,
   "metadata": {},
   "outputs": [],
   "source": [
    "# tree\n"
   ]
  },
  {
   "cell_type": "code",
   "execution_count": 32,
   "metadata": {},
   "outputs": [],
   "source": [
    "# A simple textual output of a tree without the visualization.\n",
    "def display_tree(tree):\n",
    "    print('***Tree structure***')\n",
    "    display_node(tree)\n",
    "    sys.stdout.flush()\n",
    "\n",
    "# A simple textual output of a node in a tree.\n",
    "def display_node(node):\n",
    "    if node.is_leaf():\n",
    "        print('The node ' + node.name() + ' is a leaf node.')\n",
    "        return\n",
    "    sys.stdout.write('The node ' + node.name() + ' has children: ')\n",
    "    for child in node.get_children():\n",
    "        sys.stdout.write(child.name() + ' ')\n",
    "    print('')\n",
    "    for child in node.get_children():\n",
    "        display_node(child)\n"
   ]
  },
  {
   "cell_type": "code",
   "execution_count": 33,
   "metadata": {},
   "outputs": [],
   "source": [
    "# display_tree(tree)"
   ]
  },
  {
   "cell_type": "code",
   "execution_count": 34,
   "metadata": {},
   "outputs": [],
   "source": [
    "def classify_by_tree(tree, heading, enquired_column, feature):\n",
    "    var_to_index = {}\n",
    "    for index in range(0, len(heading)):\n",
    "        var_to_index[heading[index]] = index\n",
    "    return classify_by_tree_recurse(tree, var_to_index, feature)\n",
    "\n",
    "\n",
    "def classify_by_tree_recurse(tree, var_to_index, feature):\n",
    "    if tree.is_leaf():\n",
    "        return tree.get_val()\n",
    "    else:\n",
    "        for child in tree.get_children():\n",
    "            if child.is_leaf():\n",
    "                return child.get_val()\n",
    "            if child.get_val() == feature[\n",
    "               var_to_index.get(child.get_var())]:\n",
    "                return classify_by_tree_recurse(\n",
    "                       child, var_to_index, feature)\n",
    "        return None\n"
   ]
  },
  {
   "cell_type": "code",
   "execution_count": 35,
   "metadata": {},
   "outputs": [],
   "source": [
    "# classify_by_tree(tree, heading, enquired_column, ['Small', 'Cold'])"
   ]
  },
  {
   "cell_type": "code",
   "execution_count": 36,
   "metadata": {},
   "outputs": [],
   "source": [
    "# classify_by_tree(tree, heading, enquired_column, ['Good', 'Warm'])"
   ]
  },
  {
   "cell_type": "code",
   "execution_count": 37,
   "metadata": {},
   "outputs": [],
   "source": [
    "# (heading, complete_data, incomplete_data, enquired_column) = csv_file_to_ordered_data(\"chess.csv\")"
   ]
  },
  {
   "cell_type": "code",
   "execution_count": 38,
   "metadata": {},
   "outputs": [],
   "source": [
    "# complete_data"
   ]
  },
  {
   "cell_type": "code",
   "execution_count": 39,
   "metadata": {},
   "outputs": [],
   "source": [
    "# incomplete_data"
   ]
  },
  {
   "cell_type": "code",
   "execution_count": 40,
   "metadata": {},
   "outputs": [],
   "source": [
    "# here it is time for the next exercise ..."
   ]
  },
  {
   "cell_type": "code",
   "execution_count": 41,
   "metadata": {},
   "outputs": [],
   "source": [
    "# random forest\n",
    "\n",
    "# (heading, complete_data, incomplete_data, enquired_column) = csv_file_to_ordered_data(\"swim.csv\")"
   ]
  },
  {
   "cell_type": "code",
   "execution_count": 42,
   "metadata": {},
   "outputs": [],
   "source": [
    "# complete_data"
   ]
  },
  {
   "cell_type": "code",
   "execution_count": 43,
   "metadata": {},
   "outputs": [],
   "source": [
    "dataset1 = [['None', 'Warm', 'No'], ['None', 'Warm', 'No'], ['Small', 'Cold', 'No'],\n",
    "  ['Good', 'Cold', 'No'], ['Good', 'Cold', 'No'], ['Good', 'Cold', 'No']]"
   ]
  },
  {
   "cell_type": "code",
   "execution_count": 44,
   "metadata": {},
   "outputs": [
    {
     "output_type": "execute_result",
     "data": {
      "text/plain": [
       "[['None', 'Warm', 'No'],\n",
       " ['None', 'Warm', 'No'],\n",
       " ['Small', 'Cold', 'No'],\n",
       " ['Good', 'Cold', 'No'],\n",
       " ['Good', 'Cold', 'No'],\n",
       " ['Good', 'Cold', 'No']]"
      ]
     },
     "metadata": {},
     "execution_count": 44
    }
   ],
   "source": [
    "dataset1"
   ]
  },
  {
   "cell_type": "code",
   "execution_count": 45,
   "metadata": {},
   "outputs": [],
   "source": [
    "# tree1 = constuct_decision_tree(heading, dataset1, enquired_column)"
   ]
  },
  {
   "cell_type": "code",
   "execution_count": 46,
   "metadata": {},
   "outputs": [],
   "source": [
    "# display_tree(tree1)"
   ]
  },
  {
   "cell_type": "code",
   "execution_count": 47,
   "metadata": {},
   "outputs": [],
   "source": [
    "dataset2 = [['Good', 'Warm', 'Yes'], ['None', 'Warm', 'No'], ['Good', 'Cold', 'No'],\n",
    "           ['None', 'Cold', 'No'], ['None', 'Warm', 'No'],['Small', 'Warm', 'No'] ]\n",
    "  \n"
   ]
  },
  {
   "cell_type": "code",
   "execution_count": 48,
   "metadata": {},
   "outputs": [
    {
     "output_type": "execute_result",
     "data": {
      "text/plain": [
       "[['Good', 'Warm', 'Yes'],\n",
       " ['None', 'Warm', 'No'],\n",
       " ['Good', 'Cold', 'No'],\n",
       " ['None', 'Cold', 'No'],\n",
       " ['None', 'Warm', 'No'],\n",
       " ['Small', 'Warm', 'No']]"
      ]
     },
     "metadata": {},
     "execution_count": 48
    }
   ],
   "source": [
    "dataset2"
   ]
  },
  {
   "cell_type": "code",
   "execution_count": 49,
   "metadata": {},
   "outputs": [],
   "source": [
    "# tree2 = constuct_decision_tree(heading, dataset2, enquired_column)"
   ]
  },
  {
   "cell_type": "code",
   "execution_count": 50,
   "metadata": {},
   "outputs": [],
   "source": [
    "# display_tree(tree2)"
   ]
  },
  {
   "cell_type": "code",
   "execution_count": 51,
   "metadata": {},
   "outputs": [],
   "source": [
    "# classify_by_tree(tree1, heading, enquired_column, ['Good', 'Cold'])"
   ]
  },
  {
   "cell_type": "code",
   "execution_count": 52,
   "metadata": {},
   "outputs": [],
   "source": [
    "# classify_by_tree(tree2, heading, enquired_column, ['Good', 'Cold'])"
   ]
  },
  {
   "cell_type": "code",
   "execution_count": 53,
   "metadata": {},
   "outputs": [],
   "source": [
    "#create random sample of features\n",
    "def sample_with_replacement(population, size):\n",
    "    sample = []\n",
    "    for i in range(0, size):\n",
    "        sample.append(population[random.randint(0, len(population) - 1)])\n",
    "    return sample\n"
   ]
  },
  {
   "cell_type": "code",
   "execution_count": 54,
   "metadata": {},
   "outputs": [],
   "source": [
    "# sample_with_replacement(complete_data, 6)"
   ]
  },
  {
   "cell_type": "code",
   "execution_count": 55,
   "metadata": {},
   "outputs": [],
   "source": [
    "# sample_with_replacement(complete_data, 6)"
   ]
  },
  {
   "cell_type": "code",
   "execution_count": 56,
   "metadata": {},
   "outputs": [],
   "source": [
    "def construct_random_decision_tree(heading, complete_data, enquired_column, m):\n",
    "    sample = sample_with_replacement(complete_data, len(complete_data))\n",
    "    return construct_general_tree(heading, sample, enquired_column, m)\n"
   ]
  },
  {
   "cell_type": "code",
   "execution_count": 57,
   "metadata": {},
   "outputs": [],
   "source": [
    "def construct_random_forest(heading, complete_data, enquired_column, m, tree_count):\n",
    "    random_forest = []\n",
    "    for i in range(0, tree_count):\n",
    "        tree = construct_random_decision_tree(heading, complete_data, enquired_column, m)\n",
    "        random_forest.append(tree)\n",
    "    return random_forest\n"
   ]
  },
  {
   "cell_type": "code",
   "execution_count": 58,
   "metadata": {},
   "outputs": [],
   "source": [
    "def display_classification_for_feature(random_forest, heading, enquired_column, feature):\n",
    "    classification = {}\n",
    "    for i in range(0, len(random_forest)):\n",
    "        group = classify_by_tree(random_forest[i], heading, enquired_column, feature)\n",
    "        dic_inc(classification, group)\n",
    "\n",
    "    return dic_key_max_count(classification)\n"
   ]
  },
  {
   "cell_type": "code",
   "execution_count": 59,
   "metadata": {},
   "outputs": [],
   "source": [
    "# we need the dic functions - we have used them already ...\n",
    "# Increments integer values in a dictionary.\n",
    "\n",
    "def dic_inc(dic, key):\n",
    "    if key is None:\n",
    "        pass\n",
    "    if dic.get(key, None) is None:\n",
    "        dic[key] = 1\n",
    "    else:\n",
    "        dic[key] = dic[key] + 1"
   ]
  },
  {
   "cell_type": "code",
   "execution_count": 60,
   "metadata": {},
   "outputs": [],
   "source": [
    "# Returns a dictionary key with the maximal count.\n",
    "def dic_key_max_count(dic):\n",
    "    key_max_count = None\n",
    "    for key, count in dic.items():\n",
    "        if key is not None and (key_max_count\n",
    "           is None or count > dic[key_max_count]):\n",
    "            key_max_count = key\n",
    "    return key_max_count\n"
   ]
  },
  {
   "cell_type": "code",
   "execution_count": 61,
   "metadata": {},
   "outputs": [],
   "source": [
    "# forest = construct_random_forest(heading, complete_data, enquired_column, len(heading), 6)"
   ]
  },
  {
   "cell_type": "code",
   "execution_count": 62,
   "metadata": {},
   "outputs": [],
   "source": [
    "# forest"
   ]
  },
  {
   "cell_type": "code",
   "execution_count": 63,
   "metadata": {},
   "outputs": [],
   "source": [
    "# display_classification_for_feature(forest, heading, enquired_column, ['Good','Cold'])"
   ]
  },
  {
   "cell_type": "code",
   "execution_count": 64,
   "metadata": {},
   "outputs": [],
   "source": [
    "# display_classification_for_feature(forest, heading, enquired_column, ['Good','Warm'])"
   ]
  },
  {
   "cell_type": "code",
   "execution_count": 96,
   "metadata": {},
   "outputs": [],
   "source": [
    "# for exercise 8 you need a function to output the trees of the forest\n",
    "(heading, complete_data, incomplete_data, enquired_column) = csv_file_to_ordered_data(\"chess_with_seasons.csv\")\n",
    "chess_features = incomplete_data[0][:3]\n",
    "chess_forest = construct_random_forest(heading,complete_data,enquired_column,len(heading),10)\n"
   ]
  },
  {
   "cell_type": "code",
   "execution_count": 97,
   "metadata": {},
   "outputs": [
    {
     "output_type": "execute_result",
     "data": {
      "text/plain": [
       "'No'"
      ]
     },
     "metadata": {},
     "execution_count": 97
    }
   ],
   "source": [
    "display_classification_for_feature(chess_forest,heading,enquired_column,chess_features)"
   ]
  },
  {
   "cell_type": "code",
   "execution_count": null,
   "metadata": {},
   "outputs": [],
   "source": []
  },
  {
   "cell_type": "code",
   "execution_count": null,
   "metadata": {},
   "outputs": [],
   "source": []
  }
 ],
 "metadata": {
  "kernelspec": {
   "display_name": "Python 3",
   "language": "python",
   "name": "python3"
  },
  "language_info": {
   "codemirror_mode": {
    "name": "ipython",
    "version": 3
   },
   "file_extension": ".py",
   "mimetype": "text/x-python",
   "name": "python",
   "nbconvert_exporter": "python",
   "pygments_lexer": "ipython3",
   "version": "3.7.6-final"
  }
 },
 "nbformat": 4,
 "nbformat_minor": 2
}